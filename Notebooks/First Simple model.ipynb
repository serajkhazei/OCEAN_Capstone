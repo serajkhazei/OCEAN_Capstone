{
 "cells": [
  {
   "cell_type": "code",
   "execution_count": 2,
   "metadata": {},
   "outputs": [],
   "source": [
    "import pandas as pd\n",
    "import warnings\n",
    "warnings.filterwarnings('ignore')"
   ]
  },
  {
   "cell_type": "markdown",
   "metadata": {},
   "source": [
    "# Data Preparation"
   ]
  },
  {
   "cell_type": "code",
   "execution_count": 3,
   "metadata": {},
   "outputs": [],
   "source": [
    "df = pd.read_csv('master_data.csv')\n",
    "df.drop('Unnamed: 0', axis=1, inplace=True)"
   ]
  },
  {
   "cell_type": "code",
   "execution_count": 4,
   "metadata": {},
   "outputs": [
    {
     "data": {
      "text/html": [
       "<div>\n",
       "<style scoped>\n",
       "    .dataframe tbody tr th:only-of-type {\n",
       "        vertical-align: middle;\n",
       "    }\n",
       "\n",
       "    .dataframe tbody tr th {\n",
       "        vertical-align: top;\n",
       "    }\n",
       "\n",
       "    .dataframe thead th {\n",
       "        text-align: right;\n",
       "    }\n",
       "</style>\n",
       "<table border=\"1\" class=\"dataframe\">\n",
       "  <thead>\n",
       "    <tr style=\"text-align: right;\">\n",
       "      <th></th>\n",
       "      <th>status_update</th>\n",
       "      <th>Openness</th>\n",
       "      <th>Consciousness</th>\n",
       "      <th>Extraversion</th>\n",
       "      <th>Agreeablenes</th>\n",
       "      <th>Neuroticism</th>\n",
       "    </tr>\n",
       "  </thead>\n",
       "  <tbody>\n",
       "    <tr>\n",
       "      <th>0</th>\n",
       "      <td>likes the sound of thunder.</td>\n",
       "      <td>4.4</td>\n",
       "      <td>3.25</td>\n",
       "      <td>2.65</td>\n",
       "      <td>3.15</td>\n",
       "      <td>3.00</td>\n",
       "    </tr>\n",
       "    <tr>\n",
       "      <th>1</th>\n",
       "      <td>is so sleepy it's not even funny that's she ca...</td>\n",
       "      <td>4.4</td>\n",
       "      <td>3.25</td>\n",
       "      <td>2.65</td>\n",
       "      <td>3.15</td>\n",
       "      <td>3.00</td>\n",
       "    </tr>\n",
       "    <tr>\n",
       "      <th>2</th>\n",
       "      <td>is sore and wants the knot of muscles at the b...</td>\n",
       "      <td>4.4</td>\n",
       "      <td>3.25</td>\n",
       "      <td>2.65</td>\n",
       "      <td>3.15</td>\n",
       "      <td>3.00</td>\n",
       "    </tr>\n",
       "    <tr>\n",
       "      <th>3</th>\n",
       "      <td>likes how the day sounds in this new song.</td>\n",
       "      <td>4.4</td>\n",
       "      <td>3.25</td>\n",
       "      <td>2.65</td>\n",
       "      <td>3.15</td>\n",
       "      <td>3.00</td>\n",
       "    </tr>\n",
       "    <tr>\n",
       "      <th>4</th>\n",
       "      <td>is home. &lt;3</td>\n",
       "      <td>4.4</td>\n",
       "      <td>3.25</td>\n",
       "      <td>2.65</td>\n",
       "      <td>3.15</td>\n",
       "      <td>3.00</td>\n",
       "    </tr>\n",
       "    <tr>\n",
       "      <th>...</th>\n",
       "      <td>...</td>\n",
       "      <td>...</td>\n",
       "      <td>...</td>\n",
       "      <td>...</td>\n",
       "      <td>...</td>\n",
       "      <td>...</td>\n",
       "    </tr>\n",
       "    <tr>\n",
       "      <th>570149</th>\n",
       "      <td>can't wait until next sunday! &lt;3</td>\n",
       "      <td>3.0</td>\n",
       "      <td>4.00</td>\n",
       "      <td>4.00</td>\n",
       "      <td>4.50</td>\n",
       "      <td>1.25</td>\n",
       "    </tr>\n",
       "    <tr>\n",
       "      <th>570150</th>\n",
       "      <td>babysitting :)</td>\n",
       "      <td>3.0</td>\n",
       "      <td>4.00</td>\n",
       "      <td>4.00</td>\n",
       "      <td>4.50</td>\n",
       "      <td>1.25</td>\n",
       "    </tr>\n",
       "    <tr>\n",
       "      <th>570151</th>\n",
       "      <td>Dear COD,\\r\\ni hate you. You consistantly stea...</td>\n",
       "      <td>3.0</td>\n",
       "      <td>4.00</td>\n",
       "      <td>4.00</td>\n",
       "      <td>4.50</td>\n",
       "      <td>1.25</td>\n",
       "    </tr>\n",
       "    <tr>\n",
       "      <th>570152</th>\n",
       "      <td>is in an amazing mood for some unknown reason XD</td>\n",
       "      <td>3.0</td>\n",
       "      <td>4.00</td>\n",
       "      <td>4.00</td>\n",
       "      <td>4.50</td>\n",
       "      <td>1.25</td>\n",
       "    </tr>\n",
       "    <tr>\n",
       "      <th>570153</th>\n",
       "      <td>is trying to not cry... its impossible tho.</td>\n",
       "      <td>3.0</td>\n",
       "      <td>4.00</td>\n",
       "      <td>4.00</td>\n",
       "      <td>4.50</td>\n",
       "      <td>1.25</td>\n",
       "    </tr>\n",
       "  </tbody>\n",
       "</table>\n",
       "<p>570154 rows × 6 columns</p>\n",
       "</div>"
      ],
      "text/plain": [
       "                                            status_update  Openness  \\\n",
       "0                             likes the sound of thunder.       4.4   \n",
       "1       is so sleepy it's not even funny that's she ca...       4.4   \n",
       "2       is sore and wants the knot of muscles at the b...       4.4   \n",
       "3              likes how the day sounds in this new song.       4.4   \n",
       "4                                             is home. <3       4.4   \n",
       "...                                                   ...       ...   \n",
       "570149                   can't wait until next sunday! <3       3.0   \n",
       "570150                                     babysitting :)       3.0   \n",
       "570151  Dear COD,\\r\\ni hate you. You consistantly stea...       3.0   \n",
       "570152   is in an amazing mood for some unknown reason XD       3.0   \n",
       "570153        is trying to not cry... its impossible tho.       3.0   \n",
       "\n",
       "        Consciousness  Extraversion  Agreeablenes  Neuroticism  \n",
       "0                3.25          2.65          3.15         3.00  \n",
       "1                3.25          2.65          3.15         3.00  \n",
       "2                3.25          2.65          3.15         3.00  \n",
       "3                3.25          2.65          3.15         3.00  \n",
       "4                3.25          2.65          3.15         3.00  \n",
       "...               ...           ...           ...          ...  \n",
       "570149           4.00          4.00          4.50         1.25  \n",
       "570150           4.00          4.00          4.50         1.25  \n",
       "570151           4.00          4.00          4.50         1.25  \n",
       "570152           4.00          4.00          4.50         1.25  \n",
       "570153           4.00          4.00          4.50         1.25  \n",
       "\n",
       "[570154 rows x 6 columns]"
      ]
     },
     "execution_count": 4,
     "metadata": {},
     "output_type": "execute_result"
    }
   ],
   "source": [
    "df"
   ]
  },
  {
   "cell_type": "code",
   "execution_count": 5,
   "metadata": {},
   "outputs": [],
   "source": [
    "df_1 = df.drop(['Openness','Consciousness','Extraversion','Agreeablenes'], axis=1)"
   ]
  },
  {
   "cell_type": "code",
   "execution_count": 6,
   "metadata": {},
   "outputs": [
    {
     "data": {
      "text/plain": [
       "2.75    49841\n",
       "3.00    46210\n",
       "3.25    39221\n",
       "2.25    38850\n",
       "2.50    38214\n",
       "        ...  \n",
       "2.58       19\n",
       "2.18       16\n",
       "2.81       10\n",
       "3.74        2\n",
       "1.56        1\n",
       "Name: Neuroticism, Length: 176, dtype: int64"
      ]
     },
     "execution_count": 6,
     "metadata": {},
     "output_type": "execute_result"
    }
   ],
   "source": [
    "df_1['Neuroticism'].value_counts()"
   ]
  },
  {
   "cell_type": "code",
   "execution_count": 7,
   "metadata": {},
   "outputs": [],
   "source": [
    "df_1 = df_1[df_1['status_update'].str.len() >= 50].reset_index(drop=True)\n",
    "#50 characters is the amount of characters for a average sentence"
   ]
  },
  {
   "cell_type": "code",
   "execution_count": 8,
   "metadata": {},
   "outputs": [],
   "source": [
    "def number_map(x):\n",
    "    if x > 3.50:\n",
    "        return 1\n",
    "    else:\n",
    "        return 0"
   ]
  },
  {
   "cell_type": "code",
   "execution_count": 9,
   "metadata": {},
   "outputs": [],
   "source": [
    "df_1['Neuroticism'] = df_1['Neuroticism'].apply(number_map)\n",
    "# A Neuroticism score higher than median means being of risk to depression *0-5"
   ]
  },
  {
   "cell_type": "code",
   "execution_count": 10,
   "metadata": {},
   "outputs": [
    {
     "data": {
      "image/png": "[encoded data removed]",
      "text/plain": [
       "<Figure size 432x288 with 1 Axes>"
      ]
     },
     "metadata": {
      "needs_background": "light"
     },
     "output_type": "display_data"
    }
   ],
   "source": [
    "df_1['Neuroticism'].value_counts().plot(kind='bar');\n",
    "# will need to over sample"
   ]
  },
  {
   "cell_type": "markdown",
   "metadata": {},
   "source": [
    "# Text Preprocessing"
   ]
  },
  {
   "cell_type": "code",
   "execution_count": 11,
   "metadata": {},
   "outputs": [],
   "source": [
    "import re\n",
    "\n",
    "df_1['status_update'] = df_1['status_update'].apply(lambda x:re.sub(r'[^\\w\\s]', '', x)) \n",
    "#lambda function removes punctuations"
   ]
  },
  {
   "cell_type": "code",
   "execution_count": 12,
   "metadata": {},
   "outputs": [],
   "source": [
    "import nltk\n",
    "#from nltk.tokenize import TweetTokenizer\n",
    "from nltk.tokenize import RegexpTokenizer\n",
    "from nltk.corpus import stopwords\n",
    "from nltk.stem.wordnet import WordNetLemmatizer\n",
    "\n",
    "#tokenizer = TweetTokenizer(strip_handles=True, reduce_len=True) \n",
    "\n",
    "tokenizer = RegexpTokenizer(r\"(?u)\\w{3,}[a-zA-Z]\")\n",
    "\n",
    "lemmatizer = WordNetLemmatizer()\n",
    "\n",
    "def lemmatize_and_tokenize(text):\n",
    "    tokens = tokenizer.tokenize(text)\n",
    "    return [lemmatizer.lemmatize(token) for token in tokens]"
   ]
  },
  {
   "cell_type": "markdown",
   "metadata": {},
   "source": [
    "# Modeling Preparation"
   ]
  },
  {
   "cell_type": "markdown",
   "metadata": {},
   "source": [
    "### Train, Validation, and Test split"
   ]
  },
  {
   "cell_type": "code",
   "execution_count": 13,
   "metadata": {},
   "outputs": [],
   "source": [
    "X = df_1['status_update']\n",
    "y = df_1['Neuroticism']"
   ]
  },
  {
   "cell_type": "code",
   "execution_count": 14,
   "metadata": {},
   "outputs": [],
   "source": [
    "from sklearn.model_selection import train_test_split\n",
    "\n",
    "X_train, X_test, y_train, y_test = train_test_split(X, y ,test_size=0.25, random_state=42)\n",
    "## TRAIN TEST SPLIT"
   ]
  },
  {
   "cell_type": "code",
   "execution_count": 15,
   "metadata": {},
   "outputs": [],
   "source": [
    "X_train, X_val, y_train, y_val = train_test_split(X_train, y_train,test_size=0.25, random_state=42)\n",
    "## TRAIN Validation SPLIT"
   ]
  },
  {
   "cell_type": "markdown",
   "metadata": {},
   "source": [
    "### TFIDF  Vectorization"
   ]
  },
  {
   "cell_type": "code",
   "execution_count": 16,
   "metadata": {},
   "outputs": [],
   "source": [
    "from sklearn.feature_extraction.text import TfidfVectorizer\n",
    "\n",
    "# my token pattern has been applied inside of \"lemmatize_and_tokenize\" function\n",
    "tfidf = TfidfVectorizer(max_features = 500, stop_words='english', tokenizer=lemmatize_and_tokenize)"
   ]
  },
  {
   "cell_type": "code",
   "execution_count": 17,
   "metadata": {},
   "outputs": [],
   "source": [
    "X_train_vectorized = tfidf.fit_transform(X_train)\n",
    "\n",
    "# My \"X_train_vectorized\" will be resampled"
   ]
  },
  {
   "cell_type": "code",
   "execution_count": 18,
   "metadata": {},
   "outputs": [],
   "source": [
    "X_val_vectorized = tfidf.transform(X_val)\n",
    "X_val_df = pd.DataFrame.sparse.from_spmatrix(X_val_vectorized, columns=tfidf.get_feature_names())"
   ]
  },
  {
   "cell_type": "markdown",
   "metadata": {},
   "source": [
    "### Count Vectorizer"
   ]
  },
  {
   "cell_type": "code",
   "execution_count": 111,
   "metadata": {},
   "outputs": [],
   "source": [
    "# from sklearn.feature_extraction.text import CountVectorizer\n",
    "\n",
    "# CV = CountVectorizer(max_features=500, stop_words='english', tokenizer=lemmatize_and_tokenize)"
   ]
  },
  {
   "cell_type": "code",
   "execution_count": 112,
   "metadata": {},
   "outputs": [],
   "source": [
    "# X_train_Cvectorized = CV.fit_transform(X_train[\"status_update\"])\n",
    "\n",
    "# # My \"X_train_vectorized\" will be resampled"
   ]
  },
  {
   "cell_type": "code",
   "execution_count": 113,
   "metadata": {},
   "outputs": [],
   "source": [
    "# X_val_Cvectorized = CV.transform(X_val['status_update'])\n",
    "# X_val_df_C = pd.DataFrame.sparse.from_spmatrix(X_val_Cvectorized, columns=CV.get_feature_names())"
   ]
  },
  {
   "cell_type": "code",
   "execution_count": 114,
   "metadata": {},
   "outputs": [],
   "source": [
    "# X_test_Cvectorized = CV.transform(X_test['status_update'])\n",
    "# X_test_df_C = pd.DataFrame.sparse.from_spmatrix(X_test_Cvectorized, columns=CV.get_feature_names())"
   ]
  },
  {
   "cell_type": "code",
   "execution_count": null,
   "metadata": {},
   "outputs": [],
   "source": []
  },
  {
   "cell_type": "markdown",
   "metadata": {},
   "source": [
    "### Fixing Imbalance"
   ]
  },
  {
   "cell_type": "code",
   "execution_count": 19,
   "metadata": {},
   "outputs": [
    {
     "name": "stdout",
     "output_type": "stream",
     "text": [
      "Old shape of y:Counter({0: 166402, 1: 31759})\n",
      "New shape of y:Counter({0: 166402, 1: 166402})\n"
     ]
    }
   ],
   "source": [
    "from imblearn.over_sampling import SMOTE\n",
    "from collections import Counter\n",
    "smote = SMOTE(sampling_strategy='minority',random_state=42)\n",
    "\n",
    "X_train_ros, y_train_ros = smote.fit_resample(X_train_vectorized, y_train)\n",
    "\n",
    "print('Old shape of y:' + str(Counter(y_train)))\n",
    "print('New shape of y:' + str(Counter(y_train_ros)))"
   ]
  },
  {
   "cell_type": "code",
   "execution_count": 20,
   "metadata": {},
   "outputs": [
    {
     "data": {
      "image/png": "[encoded data removed]",
      "text/plain": [
       "<Figure size 432x288 with 1 Axes>"
      ]
     },
     "metadata": {
      "needs_background": "light"
     },
     "output_type": "display_data"
    }
   ],
   "source": [
    "y_train_ros.value_counts().plot(kind='bar');"
   ]
  },
  {
   "cell_type": "code",
   "execution_count": 23,
   "metadata": {},
   "outputs": [
    {
     "name": "stdout",
     "output_type": "stream",
     "text": [
      "['able', 'actually', 'aint', 'alot', 'amazing', 'answer', 'anymore', 'apparently', 'asked', 'away', 'awesome', 'baby', 'ball', 'band', 'bday', 'beach', 'beat', 'beautiful', 'believe', 'best', 'better', 'birthday', 'bitch', 'black', 'blessed', 'blood', 'blue', 'body', 'book', 'bored', 'bought', 'bout', 'boy', 'brain', 'break', 'bring', 'broke', 'broken', 'brother', 'busy', 'called', 'came', 'cancer', 'card', 'care', 'catch', 'cause', 'cell', 'chance', 'change', 'check', 'chicken', 'child', 'chocolate', 'christmas', 'church', 'city', 'class', 'clean', 'close', 'coffee', 'cold', 'college', 'color', 'come', 'coming', 'comment', 'computer', 'cool', 'copy', 'country', 'couple', 'course', 'crap', 'crazy', 'cute', 'damn', 'dance', 'date', 'daughter', 'day', 'dead', 'dear', 'death', 'decided', 'didnt', 'died', 'different', 'dinner', 'doctor', 'doe', 'doesnt', 'doing', 'dont', 'door', 'dream', 'drink', 'drive', 'driving', 'early', 'earth', 'easy', 'eating', 'english', 'enjoy', 'everybody', 'exam', 'excited', 'eye', 'face', 'facebook', 'fact', 'fall', 'family', 'fast', 'father', 'favorite', 'fear', 'feel', 'feeling', 'felt', 'fight', 'final', 'finally', 'fine', 'finger', 'finish', 'finished', 'food', 'foot', 'forever', 'forget', 'forward', 'free', 'friday', 'friend', 'fuck', 'fucking', 'funny', 'future', 'game', 'gave', 'getting', 'gift', 'girl', 'giving', 'glad', 'goin', 'going', 'gone', 'gonna', 'good', 'gotta', 'great', 'green', 'group', 'grow', 'guess', 'guy', 'haha', 'hahaha', 'hair', 'half', 'hand', 'hang', 'hanging', 'happen', 'happened', 'happens', 'happiness', 'happy', 'hard', 'hate', 'havent', 'having', 'head', 'hear', 'heard', 'heart', 'heaven', 'hell', 'help', 'high', 'hold', 'holiday', 'home', 'homework', 'hope', 'hopefully', 'hoping', 'hour', 'house', 'human', 'hurt', 'husband', 'idea', 'inside', 'instead', 'interesting', 'internet', 'isnt', 'jesus', 'join', 'just', 'kick', 'kid', 'kill', 'kind', 'kinda', 'kiss', 'knew', 'know', 'lady', 'late', 'later', 'laugh', 'le', 'learn', 'learned', 'leave', 'leaving', 'left', 'let', 'life', 'light', 'like', 'line', 'list', 'listen', 'listening', 'little', 'live', 'living', 'lmao', 'long', 'longer', 'look', 'looking', 'lord', 'lose', 'lost', 'lot', 'love', 'loved', 'lovely', 'loving', 'luck', 'lunch', 'make', 'making', 'matter', 'maybe', 'mean', 'meet', 'memory', 'merry', 'message', 'mile', 'mind', 'minute', 'miss', 'missed', 'missing', 'mistake', 'moment', 'monday', 'money', 'month', 'mood', 'morning', 'mother', 'movie', 'moving', 'music', 'need', 'needed', 'news', 'nice', 'night', 'nite', 'note', 'number', 'officially', 'okay', 'open', 'outside', 'page', 'pain', 'paper', 'para', 'parent', 'park', 'party', 'pas', 'past', 'paste', 'peace', 'people', 'perfect', 'person', 'phone', 'pick', 'picture', 'piece', 'place', 'plan', 'play', 'playing', 'plus', 'point', 'post', 'power', 'pray', 'prayer', 'present', 'pretty', 'probably', 'problem', 'profile', 'proud', 'question', 'quite', 'rain', 'random', 'read', 'reading', 'ready', 'real', 'realize', 'realized', 'really', 'reason', 'relationship', 'remember', 'repost', 'rest', 'ride', 'right', 'road', 'rock', 'room', 'running', 'said', 'saturday', 'save', 'say', 'saying', 'school', 'season', 'second', 'seeing', 'seen', 'self', 'send', 'seriously', 'shall', 'shes', 'shit', 'shopping', 'short', 'shot', 'shower', 'sick', 'sigh', 'single', 'sister', 'sitting', 'sleep', 'sleeping', 'small', 'smile', 'snow', 'somebody', 'song', 'soon', 'sooo', 'soooo', 'sorry', 'soul', 'sound', 'special', 'spend', 'spent', 'spring', 'stand', 'star', 'start', 'started', 'starting', 'state', 'status', 'stay', 'step', 'stop', 'story', 'street', 'strong', 'stuck', 'study', 'stuff', 'stupid', 'suck', 'summer', 'sunday', 'super', 'support', 'supposed', 'sure', 'sweet', 'taking', 'talk', 'talking', 'teacher', 'team', 'tear', 'tell', 'test', 'text', 'thank', 'thankful', 'thanks', 'thats', 'theyre', 'thing', 'think', 'thinking', 'thought', 'thursday', 'ticket', 'till', 'time', 'tired', 'today', 'told', 'tomorrow', 'tonight', 'took', 'totally', 'touch', 'tree', 'tried', 'trip', 'true', 'trust', 'truth', 'trying', 'turn', 'type', 'understand', 'used', 'video', 'voice', 'wait', 'waiting', 'wake', 'walk', 'walking', 'wall', 'wanna', 'want', 'wanted', 'wasnt', 'watch', 'watched', 'watching', 'water', 'wear', 'weather', 'week', 'weekend', 'weird', 'went', 'whats', 'white', 'wish', 'woke', 'woman', 'wonder', 'wonderful', 'wondering', 'wont', 'word', 'work', 'working', 'world', 'worry', 'worst', 'worth', 'wouldnt', 'write', 'writing', 'wrong', 'yall', 'yeah', 'year', 'yesterday', 'youll', 'young', 'youre', 'youve']\n"
     ]
    }
   ],
   "source": [
    "X_train_df = pd.DataFrame.sparse.from_spmatrix(X_train_ros, columns=tfidf.get_feature_names())\n",
    "print(X_train_df.columns.tolist())"
   ]
  },
  {
   "cell_type": "markdown",
   "metadata": {},
   "source": [
    "# First Simple Model"
   ]
  },
  {
   "cell_type": "code",
   "execution_count": 28,
   "metadata": {},
   "outputs": [],
   "source": [
    "from sklearn.linear_model import LogisticRegression\n",
    "from sklearn.metrics import plot_confusion_matrix, accuracy_score, classification_report"
   ]
  },
  {
   "cell_type": "code",
   "execution_count": 24,
   "metadata": {},
   "outputs": [],
   "source": [
    "logreg = LogisticRegression()\n",
    "\n",
    "logreg.fit(X_train_df, y_train_ros)\n",
    "\n",
    "y_train_preds = logreg.predict(X_train_df)\n",
    "y_val_pred = logreg.predict(X_val_df)"
   ]
  },
  {
   "cell_type": "code",
   "execution_count": 25,
   "metadata": {},
   "outputs": [
    {
     "name": "stdout",
     "output_type": "stream",
     "text": [
      "Training accuracy:0.5848397254840687\n",
      "validation accuracy:0.5664153571320435\n"
     ]
    }
   ],
   "source": [
    "training_accuracy = accuracy_score(y_train_ros, y_train_preds)\n",
    "validation_accuracy = accuracy_score(y_val,y_val_pred)\n",
    "\n",
    "print(f'Training accuracy:{training_accuracy}')\n",
    "print(f'validation accuracy:{validation_accuracy}')"
   ]
  },
  {
   "cell_type": "code",
   "execution_count": 29,
   "metadata": {},
   "outputs": [
    {
     "name": "stdout",
     "output_type": "stream",
     "text": [
      "              precision    recall  f1-score   support\n",
      "\n",
      "           0       0.85      0.59      0.70     55537\n",
      "           1       0.17      0.44      0.25     10517\n",
      "\n",
      "    accuracy                           0.57     66054\n",
      "   macro avg       0.51      0.52      0.47     66054\n",
      "weighted avg       0.74      0.57      0.62     66054\n",
      "\n"
     ]
    },
    {
     "data": {
      "image/png": "[encoded data removed]",
      "text/plain": [
       "<Figure size 432x288 with 2 Axes>"
      ]
     },
     "metadata": {
      "needs_background": "light"
     },
     "output_type": "display_data"
    }
   ],
   "source": [
    "print(classification_report(y_val, y_val_pred))\n",
    "plot_confusion_matrix(logreg,X_val_df,y_val);"
   ]
  }
 ],
 "metadata": {
  "kernelspec": {
   "display_name": "python3 (learnenv)",
   "language": "python",
   "name": "learn-env"
  },
  "language_info": {
   "codemirror_mode": {
    "name": "ipython",
    "version": 3
   },
   "file_extension": ".py",
   "mimetype": "text/x-python",
   "name": "python",
   "nbconvert_exporter": "python",
   "pygments_lexer": "ipython3",
   "version": "3.8.5"
  }
 },
 "nbformat": 4,
 "nbformat_minor": 4
}
