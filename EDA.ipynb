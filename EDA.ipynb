{
 "cells": [
  {
   "cell_type": "markdown",
   "metadata": {},
   "source": [
    "# Headspace Marketing Campaign"
   ]
  },
  {
   "attachments": {
    "image-4.png": {
     "image/png": "[encoded data removed]"
    }
   },
   "cell_type": "markdown",
   "metadata": {},
   "source": [
    "![image-4.png](attachment:image-4.png)"
   ]
  },
  {
   "cell_type": "markdown",
   "metadata": {},
   "source": [
    "By: Seraj Khazei"
   ]
  },
  {
   "cell_type": "markdown",
   "metadata": {},
   "source": [
    "# Overview"
   ]
  },
  {
   "cell_type": "markdown",
   "metadata": {},
   "source": [
    "In this project, we are looking at facebook statuses, and the neurotic score based on the language used in the status update. The dataset includes more than 500,000 status updates. This dataset is well-suited for the business problem, as the goal is to identify neurotic individuals in order to send them ads for headspace.\n",
    "\n",
    "For data preparation, I dropped non-relevant columns and assigned neurotic or not neurotic to each status update. Then, i used re to get rid of unimportant characters in the status update. After that, i tokenize the status to split each status into its respective words so that each word is a feature in the model. We also remove stopwords as they provide little to no sentiment value to the status. Lemmatization is performed to group words with the same meaning together as one word. TF-IDF is applied in order to assign each word in each tweet a numeric value based on its importance across all tweets. Finally, SMOTE is applied in order to eliminate the class imbalance observed in the target variable (sentiment). We used pandas to perform data filtering and visualization, nltk to perform text preprocessing, imblearn for oversampling and sklearn for TF-IDF.\n",
    "\n",
    "For modeling, i utilized the sklearn's LogisticRegression, DecisionTree and RandomForestClassifier methods. I tuned our models using GridSearchCV also provided by sklearn.\n",
    "\n",
    "Our final model has an f1 score of 84%, which means that it correctly identifies the sentiment of statues 84% of the time. I used a validation set and the test set f1 scores in order to validate our model performance."
   ]
  },
  {
   "cell_type": "markdown",
   "metadata": {},
   "source": [
    "# Business Understanding"
   ]
  },
  {
   "cell_type": "markdown",
   "metadata": {},
   "source": [
    "Headspace among everyone in the world has noticed there has been a spike in depression and anxiety since the Pandemic has started. Headspace as being a mediation app understands they are capable of reducing the depression or anxiety rate at any scale, so in order to fufill the following task Headspace has created a special promotion for those who are already have mental illness or are of risk to mental illness. Although Headspace needs help to reach the individuals who meet the following requirement. This is where I come in to strategize a way to target the ads towards the following individuals and this notebook will be a demonstration for how the objective was tackled."
   ]
  },
  {
   "cell_type": "markdown",
   "metadata": {},
   "source": [
    "# Data Understanding"
   ]
  },
  {
   "cell_type": "markdown",
   "metadata": {},
   "source": [
    "The dataset was acquired from https://aaai.org/Library/Workshops/ws13-01.php\n",
    "which takes in various facebook statuses and scores the status on the big 5 peronality trait "
   ]
  },
  {
   "cell_type": "markdown",
   "metadata": {},
   "source": [
    "# Libaries"
   ]
  },
  {
   "cell_type": "markdown",
   "metadata": {},
   "source": [
    "All the Libaries necessary for the notebook"
   ]
  },
  {
   "cell_type": "code",
   "execution_count": 196,
   "metadata": {},
   "outputs": [],
   "source": [
    "import pandas as pd\n",
    "import re\n",
    "import nltk\n",
    "from nltk.tokenize import TweetTokenizer\n",
    "from nltk.corpus import stopwords\n",
    "from nltk.stem.wordnet import WordNetLemmatizer\n",
    "from sklearn.model_selection import train_test_split\n",
    "from sklearn.feature_extraction.text import TfidfVectorizer\n",
    "from imblearn.over_sampling import SMOTE\n",
    "from collections import Counter\n",
    "from sklearn.metrics import fbeta_score\n",
    "from sklearn.linear_model import LogisticRegression\n",
    "from sklearn.metrics import plot_confusion_matrix, accuracy_score, recall_score\n",
    "from sklearn.metrics import f1_score, precision_score, plot_roc_curve\n",
    "from imblearn.pipeline import Pipeline as imbpipeline\n",
    "from sklearn.model_selection import GridSearchCV\n",
    "from sklearn.metrics import make_scorer\n",
    "from sklearn.tree import DecisionTreeClassifier\n",
    "import warnings\n",
    "warnings.filterwarnings('ignore')"
   ]
  },
  {
   "cell_type": "markdown",
   "metadata": {},
   "source": [
    "# Data Preparation"
   ]
  },
  {
   "cell_type": "code",
   "execution_count": 197,
   "metadata": {},
   "outputs": [],
   "source": [
    "df = pd.read_csv('master_data.csv')\n",
    "df.drop('Unnamed: 0', axis=1, inplace=True)"
   ]
  },
  {
   "cell_type": "code",
   "execution_count": 327,
   "metadata": {},
   "outputs": [
    {
     "data": {
      "text/html": [
       "<div>\n",
       "<style scoped>\n",
       "    .dataframe tbody tr th:only-of-type {\n",
       "        vertical-align: middle;\n",
       "    }\n",
       "\n",
       "    .dataframe tbody tr th {\n",
       "        vertical-align: top;\n",
       "    }\n",
       "\n",
       "    .dataframe thead th {\n",
       "        text-align: right;\n",
       "    }\n",
       "</style>\n",
       "<table border=\"1\" class=\"dataframe\">\n",
       "  <thead>\n",
       "    <tr style=\"text-align: right;\">\n",
       "      <th></th>\n",
       "      <th>status_update</th>\n",
       "      <th>Openness</th>\n",
       "      <th>Consciousness</th>\n",
       "      <th>Extraversion</th>\n",
       "      <th>Agreeablenes</th>\n",
       "      <th>Neuroticism</th>\n",
       "    </tr>\n",
       "  </thead>\n",
       "  <tbody>\n",
       "    <tr>\n",
       "      <th>0</th>\n",
       "      <td>likes the sound of thunder.</td>\n",
       "      <td>4.4</td>\n",
       "      <td>3.25</td>\n",
       "      <td>2.65</td>\n",
       "      <td>3.15</td>\n",
       "      <td>3.00</td>\n",
       "    </tr>\n",
       "    <tr>\n",
       "      <th>1</th>\n",
       "      <td>is so sleepy it's not even funny that's she ca...</td>\n",
       "      <td>4.4</td>\n",
       "      <td>3.25</td>\n",
       "      <td>2.65</td>\n",
       "      <td>3.15</td>\n",
       "      <td>3.00</td>\n",
       "    </tr>\n",
       "    <tr>\n",
       "      <th>2</th>\n",
       "      <td>is sore and wants the knot of muscles at the b...</td>\n",
       "      <td>4.4</td>\n",
       "      <td>3.25</td>\n",
       "      <td>2.65</td>\n",
       "      <td>3.15</td>\n",
       "      <td>3.00</td>\n",
       "    </tr>\n",
       "    <tr>\n",
       "      <th>3</th>\n",
       "      <td>likes how the day sounds in this new song.</td>\n",
       "      <td>4.4</td>\n",
       "      <td>3.25</td>\n",
       "      <td>2.65</td>\n",
       "      <td>3.15</td>\n",
       "      <td>3.00</td>\n",
       "    </tr>\n",
       "    <tr>\n",
       "      <th>4</th>\n",
       "      <td>is home. &lt;3</td>\n",
       "      <td>4.4</td>\n",
       "      <td>3.25</td>\n",
       "      <td>2.65</td>\n",
       "      <td>3.15</td>\n",
       "      <td>3.00</td>\n",
       "    </tr>\n",
       "    <tr>\n",
       "      <th>...</th>\n",
       "      <td>...</td>\n",
       "      <td>...</td>\n",
       "      <td>...</td>\n",
       "      <td>...</td>\n",
       "      <td>...</td>\n",
       "      <td>...</td>\n",
       "    </tr>\n",
       "    <tr>\n",
       "      <th>570149</th>\n",
       "      <td>can't wait until next sunday! &lt;3</td>\n",
       "      <td>3.0</td>\n",
       "      <td>4.00</td>\n",
       "      <td>4.00</td>\n",
       "      <td>4.50</td>\n",
       "      <td>1.25</td>\n",
       "    </tr>\n",
       "    <tr>\n",
       "      <th>570150</th>\n",
       "      <td>babysitting :)</td>\n",
       "      <td>3.0</td>\n",
       "      <td>4.00</td>\n",
       "      <td>4.00</td>\n",
       "      <td>4.50</td>\n",
       "      <td>1.25</td>\n",
       "    </tr>\n",
       "    <tr>\n",
       "      <th>570151</th>\n",
       "      <td>Dear COD,\\r\\ni hate you. You consistantly stea...</td>\n",
       "      <td>3.0</td>\n",
       "      <td>4.00</td>\n",
       "      <td>4.00</td>\n",
       "      <td>4.50</td>\n",
       "      <td>1.25</td>\n",
       "    </tr>\n",
       "    <tr>\n",
       "      <th>570152</th>\n",
       "      <td>is in an amazing mood for some unknown reason XD</td>\n",
       "      <td>3.0</td>\n",
       "      <td>4.00</td>\n",
       "      <td>4.00</td>\n",
       "      <td>4.50</td>\n",
       "      <td>1.25</td>\n",
       "    </tr>\n",
       "    <tr>\n",
       "      <th>570153</th>\n",
       "      <td>is trying to not cry... its impossible tho.</td>\n",
       "      <td>3.0</td>\n",
       "      <td>4.00</td>\n",
       "      <td>4.00</td>\n",
       "      <td>4.50</td>\n",
       "      <td>1.25</td>\n",
       "    </tr>\n",
       "  </tbody>\n",
       "</table>\n",
       "<p>570154 rows × 6 columns</p>\n",
       "</div>"
      ],
      "text/plain": [
       "                                            status_update  Openness  \\\n",
       "0                             likes the sound of thunder.       4.4   \n",
       "1       is so sleepy it's not even funny that's she ca...       4.4   \n",
       "2       is sore and wants the knot of muscles at the b...       4.4   \n",
       "3              likes how the day sounds in this new song.       4.4   \n",
       "4                                             is home. <3       4.4   \n",
       "...                                                   ...       ...   \n",
       "570149                   can't wait until next sunday! <3       3.0   \n",
       "570150                                     babysitting :)       3.0   \n",
       "570151  Dear COD,\\r\\ni hate you. You consistantly stea...       3.0   \n",
       "570152   is in an amazing mood for some unknown reason XD       3.0   \n",
       "570153        is trying to not cry... its impossible tho.       3.0   \n",
       "\n",
       "        Consciousness  Extraversion  Agreeablenes  Neuroticism  \n",
       "0                3.25          2.65          3.15         3.00  \n",
       "1                3.25          2.65          3.15         3.00  \n",
       "2                3.25          2.65          3.15         3.00  \n",
       "3                3.25          2.65          3.15         3.00  \n",
       "4                3.25          2.65          3.15         3.00  \n",
       "...               ...           ...           ...          ...  \n",
       "570149           4.00          4.00          4.50         1.25  \n",
       "570150           4.00          4.00          4.50         1.25  \n",
       "570151           4.00          4.00          4.50         1.25  \n",
       "570152           4.00          4.00          4.50         1.25  \n",
       "570153           4.00          4.00          4.50         1.25  \n",
       "\n",
       "[570154 rows x 6 columns]"
      ]
     },
     "execution_count": 327,
     "metadata": {},
     "output_type": "execute_result"
    }
   ],
   "source": [
    "df"
   ]
  },
  {
   "cell_type": "code",
   "execution_count": 198,
   "metadata": {},
   "outputs": [],
   "source": [
    "df['status_update'] = df['status_update'].astype(str)"
   ]
  },
  {
   "cell_type": "markdown",
   "metadata": {},
   "source": [
    "The only relevant columns associated with my business problem will be `status_update` and `Neuroticism`"
   ]
  },
  {
   "cell_type": "code",
   "execution_count": 199,
   "metadata": {},
   "outputs": [],
   "source": [
    "df_1 = df.drop(['Openness','Consciousness','Extraversion','Agreeablenes'], axis=1)"
   ]
  },
  {
   "cell_type": "code",
   "execution_count": 200,
   "metadata": {},
   "outputs": [
    {
     "data": {
      "text/plain": [
       "2.75    49841\n",
       "3.00    46210\n",
       "3.25    39221\n",
       "2.25    38850\n",
       "2.50    38214\n",
       "        ...  \n",
       "2.58       19\n",
       "2.18       16\n",
       "2.81       10\n",
       "3.74        2\n",
       "1.56        1\n",
       "Name: Neuroticism, Length: 176, dtype: int64"
      ]
     },
     "execution_count": 200,
     "metadata": {},
     "output_type": "execute_result"
    }
   ],
   "source": [
    "df_1['Neuroticism'].value_counts()"
   ]
  },
  {
   "cell_type": "code",
   "execution_count": 236,
   "metadata": {},
   "outputs": [],
   "source": [
    "# do more eda\n",
    "#some visualizations, frequency count ,average: count of tweets, "
   ]
  },
  {
   "cell_type": "markdown",
   "metadata": {},
   "source": [
    "In order to have valid Neurotic scores a complete sentence is required per status update"
   ]
  },
  {
   "cell_type": "code",
   "execution_count": 201,
   "metadata": {},
   "outputs": [],
   "source": [
    "df_1 = df_1[df_1['status_update'].str.len() >= 50].reset_index(drop=True)\n",
    "#50 characters is the amount of characters for a average sentence"
   ]
  },
  {
   "cell_type": "markdown",
   "metadata": {},
   "source": [
    "The function creates a target variable and prepares my dataset for the classification models ahead  \n",
    "- (1): represents the user behind the status update has indications of `Neuroticism`\n",
    " \n",
    "- (0): represents the user behind the status update does not have indications of `Neuroticism`"
   ]
  },
  {
   "cell_type": "code",
   "execution_count": 202,
   "metadata": {},
   "outputs": [],
   "source": [
    "def number_map(x):\n",
    "    if x > 3.50:\n",
    "        return 1\n",
    "    else:\n",
    "        return 0\n",
    "\n",
    "# A Neuroticism score higher than the median means being of risk to depression"
   ]
  },
  {
   "cell_type": "code",
   "execution_count": 203,
   "metadata": {},
   "outputs": [],
   "source": [
    "df_1['Neuroticism'] = df_1['Neuroticism'].apply(number_map)"
   ]
  },
  {
   "cell_type": "markdown",
   "metadata": {},
   "source": [
    "This bar plot protrays the class imbalance that consist in our dataset"
   ]
  },
  {
   "cell_type": "code",
   "execution_count": 204,
   "metadata": {},
   "outputs": [
    {
     "data": {
      "image/png": "[encoded data removed]",
      "text/plain": [
       "<Figure size 432x288 with 1 Axes>"
      ]
     },
     "metadata": {
      "needs_background": "light"
     },
     "output_type": "display_data"
    }
   ],
   "source": [
    "df_1['Neuroticism'].value_counts().plot(kind='bar');"
   ]
  },
  {
   "cell_type": "markdown",
   "metadata": {},
   "source": [
    "# Text Preprocessing"
   ]
  },
  {
   "cell_type": "code",
   "execution_count": 205,
   "metadata": {},
   "outputs": [],
   "source": [
    "#import re"
   ]
  },
  {
   "cell_type": "code",
   "execution_count": 206,
   "metadata": {},
   "outputs": [],
   "source": [
    "df_1['status_update'] = df_1['status_update'].apply(lambda x:re.sub(r'[^\\w\\s]', '', x))  \n",
    "## This lambda function will remove any punctations that consist in the status updates\n",
    "\n",
    "df_1['status_update'] = df_1['status_update'].apply(lambda x:re.sub('[0-9]+', '',x))\n",
    "##T his lambda function will remove any numbers that consist in the status updates"
   ]
  },
  {
   "cell_type": "code",
   "execution_count": 207,
   "metadata": {},
   "outputs": [],
   "source": [
    "# from nltk.tokenize import TweetTokenizer\n",
    "# from nltk.corpus import stopwords\n",
    "# from nltk.stem.wordnet import WordNetLemmatizer"
   ]
  },
  {
   "cell_type": "markdown",
   "metadata": {},
   "source": [
    "In the cell below the \n",
    "- \"TweetTokenizer\" will remove \"@\" symbols along with repetive characters that may be taking part in any status update.  \n",
    "- \"lemmatizer\" will located words that have the same meaning and deduct them down to their root words in order to prevent the same word to be counted as seperate occasions\n",
    "- Then a function is created with the the tokenizer and lemmatizer in order to apply the feature engingeering inside a TF-IDF vectorizer parameter"
   ]
  },
  {
   "cell_type": "code",
   "execution_count": 208,
   "metadata": {},
   "outputs": [],
   "source": [
    "tokenizer = TweetTokenizer(strip_handles=True, reduce_len=True) \n",
    "\n",
    "lemmatizer = WordNetLemmatizer()\n",
    "\n",
    "def lemmatize_and_tokenize(text):\n",
    "    tokens = tokenizer.tokenize(text)\n",
    "    return [lemmatizer.lemmatize(token) for token in tokens]"
   ]
  },
  {
   "cell_type": "markdown",
   "metadata": {},
   "source": [
    "# Modeling Preparation"
   ]
  },
  {
   "cell_type": "markdown",
   "metadata": {},
   "source": [
    "### Train, Validation, and Test split"
   ]
  },
  {
   "cell_type": "code",
   "execution_count": 209,
   "metadata": {},
   "outputs": [],
   "source": [
    "# from sklearn.model_selection import train_test_split"
   ]
  },
  {
   "cell_type": "markdown",
   "metadata": {},
   "source": [
    "The `X` will represent the predictors\n",
    "\n",
    "The `y` will represent the target variable"
   ]
  },
  {
   "cell_type": "code",
   "execution_count": 210,
   "metadata": {},
   "outputs": [],
   "source": [
    "X = df_1['status_update']\n",
    "y = df_1['Neuroticism']"
   ]
  },
  {
   "cell_type": "code",
   "execution_count": 211,
   "metadata": {},
   "outputs": [],
   "source": [
    "X_train, X_test, y_train, y_test = train_test_split(X, y ,test_size=0.25, random_state=42)\n",
    "## TRAIN TEST SPLIT"
   ]
  },
  {
   "cell_type": "markdown",
   "metadata": {},
   "source": [
    "In order to check for overfitting and underfitting a validation set will be made as well."
   ]
  },
  {
   "cell_type": "code",
   "execution_count": 212,
   "metadata": {},
   "outputs": [],
   "source": [
    "X_train, X_val, y_train, y_val = train_test_split(X_train, y_train,test_size=0.25, random_state=42)\n",
    "## TRAIN Validation SPLIT"
   ]
  },
  {
   "cell_type": "markdown",
   "metadata": {},
   "source": [
    "### TFIDF  Vectorization"
   ]
  },
  {
   "cell_type": "markdown",
   "metadata": {},
   "source": [
    "Now that the dataset is cleaned, lemmatized and tokenized, it can now be converted into a vector format. In order to do so, TF-IDF vectorization will be used. This method is based on the idea that rare words are more valuable for prediction. The method utilizes two metrics:\n",
    "\n",
    "- TF (term frequency) refers to the ratio of number of times a word appear in the document to the total number of words in the document.\n",
    "- IDF (Inverse Document Frequency) refers to the logged ratio of number of documents to the number of documents including the word."
   ]
  },
  {
   "cell_type": "code",
   "execution_count": 213,
   "metadata": {},
   "outputs": [],
   "source": [
    "# from sklearn.feature_extraction.text import TfidfVectorizer"
   ]
  },
  {
   "cell_type": "code",
   "execution_count": 257,
   "metadata": {},
   "outputs": [],
   "source": [
    "tfidf = TfidfVectorizer(max_features=500, stop_words='english', tokenizer=lemmatize_and_tokenize)\n",
    "\n",
    "## my token pattern has been applied inside of \"lemmatize_and_tokenize\" function"
   ]
  },
  {
   "cell_type": "code",
   "execution_count": 258,
   "metadata": {},
   "outputs": [],
   "source": [
    "## Fit the vectorizer on\"status_update\" and transform it\n",
    "X_train_vectorized = tfidf.fit_transform(X_train)"
   ]
  },
  {
   "cell_type": "code",
   "execution_count": 216,
   "metadata": {},
   "outputs": [],
   "source": [
    "## Same process on the validation set \n",
    "X_val_vectorized = tfidf.transform(X_val)\n",
    "\n",
    "##Visually inspect the validation vectorized data\n",
    "X_val_df = pd.DataFrame.sparse.from_spmatrix(X_val_vectorized, columns=tfidf.get_feature_names())"
   ]
  },
  {
   "cell_type": "markdown",
   "metadata": {},
   "source": [
    "In order to deal with the imbalance displayed above we will be using `SMOTE` with a minority sampling strategy in order to not lose any data"
   ]
  },
  {
   "cell_type": "code",
   "execution_count": 217,
   "metadata": {},
   "outputs": [],
   "source": [
    "# from imblearn.over_sampling import SMOTE\n",
    "# from collections import Counter"
   ]
  },
  {
   "cell_type": "markdown",
   "metadata": {},
   "source": [
    "The Counter package protrays that we resampled our class \"1\" to match the size of class \"0\""
   ]
  },
  {
   "cell_type": "code",
   "execution_count": 218,
   "metadata": {},
   "outputs": [
    {
     "name": "stdout",
     "output_type": "stream",
     "text": [
      "Old shape of y:Counter({0: 166402, 1: 31759})\n",
      "New shape of y:Counter({0: 166402, 1: 166402})\n"
     ]
    }
   ],
   "source": [
    "smote = SMOTE(sampling_strategy='minority',random_state=42)\n",
    "\n",
    "X_train_ros, y_train_ros = smote.fit_resample(X_train_vectorized, y_train)\n",
    "\n",
    "print('Old shape of y:' + str(Counter(y_train)))\n",
    "print('New shape of y:' + str(Counter(y_train_ros)))"
   ]
  },
  {
   "cell_type": "code",
   "execution_count": 235,
   "metadata": {},
   "outputs": [],
   "source": [
    "# Now we can visually inspect the X_train vectorized data after we resampled\n",
    "X_train_df = pd.DataFrame.sparse.from_spmatrix(X_train_ros, columns=tfidf.get_feature_names())\n",
    "print(X_train_df.columns.tolist())"
   ]
  },
  {
   "cell_type": "code",
   "execution_count": 220,
   "metadata": {},
   "outputs": [
    {
     "data": {
      "image/png": "[encoded data removed]",
      "text/plain": [
       "<Figure size 432x288 with 1 Axes>"
      ]
     },
     "metadata": {
      "needs_background": "light"
     },
     "output_type": "display_data"
    }
   ],
   "source": [
    "y_train_ros.value_counts().plot(kind='bar');"
   ]
  },
  {
   "cell_type": "markdown",
   "metadata": {},
   "source": [
    "# First Simple Model"
   ]
  },
  {
   "cell_type": "markdown",
   "metadata": {},
   "source": [
    "## Logistic Regression"
   ]
  },
  {
   "cell_type": "markdown",
   "metadata": {},
   "source": [
    "Logistic Regression was chosen as the baseline model for the reason being that logistic regression provides simple and efficent method for binary classification problems, as well as the simpliest to explain in comparison to other models"
   ]
  },
  {
   "cell_type": "markdown",
   "metadata": {},
   "source": [
    "## Metric:  F-beta score with beta=2"
   ]
  },
  {
   "cell_type": "markdown",
   "metadata": {},
   "source": [
    "The reason for my metric of choosing can be traced back to the business understanding as my stakeholders priority is detecting the neurotic individuals as frequent as possible hence with beta = 2 the f1 score will put more weight on recall to allow for those individuals to be identified."
   ]
  },
  {
   "cell_type": "code",
   "execution_count": 221,
   "metadata": {},
   "outputs": [],
   "source": [
    "# from sklearn.metrics import fbeta_score\n",
    "# from sklearn.linear_model import LogisticRegression\n",
    "# from sklearn.metrics import plot_confusion_matrix, plot_roc_curve"
   ]
  },
  {
   "cell_type": "code",
   "execution_count": 325,
   "metadata": {},
   "outputs": [],
   "source": [
    "logreg = LogisticRegression()\n",
    "\n",
    "logreg.fit(X_train_df, y_train_ros)\n",
    "\n",
    "y_train_pred = logreg.predict(X_train_df)\n",
    "y_val_pred = logreg.predict(X_val_df)"
   ]
  },
  {
   "cell_type": "code",
   "execution_count": 326,
   "metadata": {},
   "outputs": [
    {
     "name": "stdout",
     "output_type": "stream",
     "text": [
      "training f1 score:0.6140701433876997\n",
      "validation f1 score:0.5774820601326187\n"
     ]
    }
   ],
   "source": [
    "training_f1_score = fbeta_score(y_train_ros, y_train_pred, average='micro', beta=2)\n",
    "validation_f1_score = fbeta_score(y_val, y_val_pred, average='micro', beta=2)\n",
    "\n",
    "print(f'training f1 score:{training_f1_score}')\n",
    "print(f'validation f1 score:{validation_f1_score}')"
   ]
  },
  {
   "cell_type": "code",
   "execution_count": 290,
   "metadata": {},
   "outputs": [],
   "source": [
    "# validation_recall = recall_score(y_val, y_val_pred, average='weighted')\n",
    "# validation_f1 = f1_score(y_val, y_val_pred, average='weighted')\n",
    "# validation_precision = precision_score(y_val, y_val_pred, average='weighted')"
   ]
  },
  {
   "cell_type": "code",
   "execution_count": 291,
   "metadata": {},
   "outputs": [
    {
     "data": {
      "image/png": "[encoded data removed]",
      "text/plain": [
       "<Figure size 432x288 with 2 Axes>"
      ]
     },
     "metadata": {
      "needs_background": "light"
     },
     "output_type": "display_data"
    }
   ],
   "source": [
    "# print(f'validation: recall:{validation_recall}, precision:{validation_precision}, f1:{validation_f1}')\n",
    "plot_confusion_matrix(logreg,X_val_df,y_val);"
   ]
  },
  {
   "cell_type": "code",
   "execution_count": null,
   "metadata": {},
   "outputs": [],
   "source": [
    "# recall based on business problem or f1\n"
   ]
  },
  {
   "cell_type": "code",
   "execution_count": 237,
   "metadata": {},
   "outputs": [],
   "source": [
    "#plot_roc_curve(logreg,X_val_df,y_val)"
   ]
  },
  {
   "cell_type": "markdown",
   "metadata": {},
   "source": [
    "# Model Iterations"
   ]
  },
  {
   "cell_type": "markdown",
   "metadata": {},
   "source": [
    "Now model iterations will take place with hyperparameter tuning through gridsearches"
   ]
  },
  {
   "cell_type": "markdown",
   "metadata": {},
   "source": [
    "## Model Iterations #1  \n",
    "\n",
    "### Logistic Regression"
   ]
  },
  {
   "cell_type": "code",
   "execution_count": 293,
   "metadata": {},
   "outputs": [],
   "source": [
    "# from sklearn.metrics import make_scorer\n",
    "# from imblearn.pipeline import Pipeline as imbpipeline\n",
    "# from sklearn.model_selection import GridSearchCV"
   ]
  },
  {
   "cell_type": "code",
   "execution_count": 295,
   "metadata": {},
   "outputs": [
    {
     "data": {
      "text/plain": [
       "{'logreg__penalty': 'l2',\n",
       " 'logreg__solver': 'newton-cg',\n",
       " 'vect__max_df': 1,\n",
       " 'vect__min_df': 1}"
      ]
     },
     "execution_count": 295,
     "metadata": {},
     "output_type": "execute_result"
    }
   ],
   "source": [
    "log_pipeline = imbpipeline(steps=[\n",
    "          ('vect', TfidfVectorizer(stop_words='english', tokenizer=lemmatize_and_tokenize,\n",
    "                                   strip_accents='ascii',ngram_range =(1,2))),\n",
    "           ('smote', SMOTE(sampling_strategy='minority',random_state=42)),\n",
    "           ('logreg', LogisticRegression()) \n",
    "])\n",
    "           \n",
    "\n",
    "log_parameters = {\n",
    " 'vect__max_df' : [1,0.8],\n",
    " 'vect__min_df' : [1],  \n",
    " 'logreg__penalty': ['l2','l1'],\n",
    " 'logreg__solver': ['newton-cg', 'lbfgs']   \n",
    "}\n",
    "\n",
    "gs_logreg = GridSearchCV(log_pipeline, log_parameters, scoring= make_scorer(fbeta_score, beta=2))\n",
    "gs_logreg.fit(X_train, y_train)\n",
    "gs_logreg.best_params_"
   ]
  },
  {
   "cell_type": "code",
   "execution_count": 322,
   "metadata": {},
   "outputs": [
    {
     "name": "stdout",
     "output_type": "stream",
     "text": [
      "training f1 score:0.9464677711557774\n",
      "validation f1 score:0.8429769582462834\n"
     ]
    }
   ],
   "source": [
    "y_train_pred = gs_logreg.predict(X_train)\n",
    "y_val_pred = gs_logreg.predict(X_val)\n",
    "\n",
    "training_f1_score = fbeta_score(y_train, y_train_pred, average='micro', beta=2)\n",
    "validation_f1_score = fbeta_score(y_val,y_val_pred, average='micro', beta=2)\n",
    "\n",
    "print(f'training f1 score:{training_f1_score}')\n",
    "print(f'validation f1 score:{validation_f1_score}')"
   ]
  },
  {
   "cell_type": "code",
   "execution_count": 297,
   "metadata": {},
   "outputs": [
    {
     "data": {
      "image/png": "[encoded data removed]",
      "text/plain": [
       "<Figure size 432x288 with 2 Axes>"
      ]
     },
     "metadata": {
      "needs_background": "light"
     },
     "output_type": "display_data"
    }
   ],
   "source": [
    "plot_confusion_matrix(gs_logreg,X_val,y_val);"
   ]
  },
  {
   "cell_type": "code",
   "execution_count": 298,
   "metadata": {},
   "outputs": [
    {
     "data": {
      "text/plain": [
       "<sklearn.metrics._plot.roc_curve.RocCurveDisplay at 0x7fd64e07a460>"
      ]
     },
     "execution_count": 298,
     "metadata": {},
     "output_type": "execute_result"
    },
    {
     "data": {
      "image/png": "[encoded data removed]",
      "text/plain": [
       "<Figure size 432x288 with 1 Axes>"
      ]
     },
     "metadata": {
      "needs_background": "light"
     },
     "output_type": "display_data"
    }
   ],
   "source": [
    "plot_roc_curve(gs_logreg,X_val,y_val)"
   ]
  },
  {
   "cell_type": "markdown",
   "metadata": {},
   "source": [
    "## Model Iterations #2\n",
    "\n",
    "### Decision Tree"
   ]
  },
  {
   "cell_type": "markdown",
   "metadata": {},
   "source": []
  },
  {
   "cell_type": "code",
   "execution_count": 299,
   "metadata": {},
   "outputs": [],
   "source": [
    "# from sklearn.tree import DecisionTreeClassifier"
   ]
  },
  {
   "cell_type": "code",
   "execution_count": 300,
   "metadata": {},
   "outputs": [
    {
     "data": {
      "text/plain": [
       "{'dtc__criterion': 'gini',\n",
       " 'dtc__max_depth': 100,\n",
       " 'vect__max_df': 1,\n",
       " 'vect__min_df': 1}"
      ]
     },
     "execution_count": 300,
     "metadata": {},
     "output_type": "execute_result"
    }
   ],
   "source": [
    "dtc_pipeline = imbpipeline(steps=[\n",
    "           ('vect', TfidfVectorizer(stop_words='english', tokenizer=lemmatize_and_tokenize, \n",
    "                                    strip_accents='ascii',ngram_range =(1,2))),\n",
    "           ('smote', SMOTE(sampling_strategy='minority',random_state=42)),\n",
    "           ('dtc', DecisionTreeClassifier()) \n",
    "])\n",
    "           \n",
    "\n",
    "dtc_parameters = {\n",
    " 'vect__max_df' : [1,0.8],\n",
    " 'vect__min_df' : [1],\n",
    " 'dtc__criterion': ['gini', 'entropy'],\n",
    " 'dtc__max_depth': [50,100]      \n",
    "}\n",
    "\n",
    "gs_dtc = GridSearchCV(dtc_pipeline, dtc_parameters, scoring= make_scorer(fbeta_score, beta=2))\n",
    "gs_dtc.fit(X_train, y_train)\n",
    "gs_dtc.best_params_"
   ]
  },
  {
   "cell_type": "code",
   "execution_count": 321,
   "metadata": {},
   "outputs": [
    {
     "name": "stdout",
     "output_type": "stream",
     "text": [
      "training f1 score:0.8402359697417756\n",
      "validation f1 score:0.8408574802434372\n"
     ]
    }
   ],
   "source": [
    "y_train_pred = gs_dtc.predict(X_train)\n",
    "y_val_pred = gs_dtc.predict(X_val)\n",
    "\n",
    "training_f1_score = fbeta_score(y_train, y_train_pred, average='micro', beta=2)\n",
    "validation_f1_score = fbeta_score(y_val,y_val_pred, average='micro', beta=2)\n",
    "\n",
    "print(f'training f1 score:{training_f1_score}')\n",
    "print(f'validation f1 score:{validation_f1_score}')"
   ]
  },
  {
   "cell_type": "code",
   "execution_count": 302,
   "metadata": {},
   "outputs": [
    {
     "data": {
      "image/png": "[encoded data removed]",
      "text/plain": [
       "<Figure size 432x288 with 2 Axes>"
      ]
     },
     "metadata": {
      "needs_background": "light"
     },
     "output_type": "display_data"
    }
   ],
   "source": [
    "plot_confusion_matrix(gs_dtc,X_val,y_val);"
   ]
  },
  {
   "cell_type": "code",
   "execution_count": 303,
   "metadata": {},
   "outputs": [],
   "source": [
    "# focus on \"f1\" sklearn f1 beta score custom metric "
   ]
  },
  {
   "cell_type": "code",
   "execution_count": 304,
   "metadata": {},
   "outputs": [
    {
     "data": {
      "text/plain": [
       "<sklearn.metrics._plot.roc_curve.RocCurveDisplay at 0x7fd64f2a9f70>"
      ]
     },
     "execution_count": 304,
     "metadata": {},
     "output_type": "execute_result"
    },
    {
     "data": {
      "image/png": "[encoded data removed]",
      "text/plain": [
       "<Figure size 432x288 with 1 Axes>"
      ]
     },
     "metadata": {
      "needs_background": "light"
     },
     "output_type": "display_data"
    }
   ],
   "source": [
    "plot_roc_curve(gs_dtc,X_val,y_val)"
   ]
  },
  {
   "cell_type": "markdown",
   "metadata": {},
   "source": [
    "## Model Iterations #3\n",
    "\n",
    "### Random Forest"
   ]
  },
  {
   "cell_type": "markdown",
   "metadata": {},
   "source": []
  },
  {
   "cell_type": "code",
   "execution_count": 305,
   "metadata": {},
   "outputs": [],
   "source": [
    "# from sklearn.ensemble import RandomForestClassifier"
   ]
  },
  {
   "cell_type": "code",
   "execution_count": 306,
   "metadata": {},
   "outputs": [
    {
     "data": {
      "text/plain": [
       "{'rfc__criterion': 'gini',\n",
       " 'rfc__max_depth': 100,\n",
       " 'vect__max_df': 1,\n",
       " 'vect__min_df': 1}"
      ]
     },
     "execution_count": 306,
     "metadata": {},
     "output_type": "execute_result"
    }
   ],
   "source": [
    "rfc_pipeline = imbpipeline(steps=[\n",
    "           ('vect', TfidfVectorizer(stop_words='english', tokenizer=lemmatize_and_tokenize, \n",
    "                                    strip_accents='ascii',ngram_range =(1,2))),\n",
    "           ('smote', SMOTE(sampling_strategy='minority',random_state=42)),\n",
    "           ('rfc', RandomForestClassifier()) \n",
    "])\n",
    "           \n",
    "\n",
    "rfc_parameters = {\n",
    " 'vect__max_df' : [1],\n",
    " 'vect__min_df' : [1],\n",
    " 'rfc__criterion': ['gini', 'entropy'],\n",
    " 'rfc__max_depth': [50,100]        \n",
    "}\n",
    "\n",
    "gs_rfc = GridSearchCV(rfc_pipeline, rfc_parameters, scoring= make_scorer(fbeta_score, beta=2))\n",
    "gs_rfc.fit(X_train, y_train)\n",
    "gs_rfc.best_params_"
   ]
  },
  {
   "cell_type": "code",
   "execution_count": 320,
   "metadata": {},
   "outputs": [
    {
     "name": "stdout",
     "output_type": "stream",
     "text": [
      "training f1 score:0.8584837581562467\n",
      "validation f1 score:0.8449904623489872\n"
     ]
    }
   ],
   "source": [
    "y_train_pred = gs_rfc.predict(X_train)\n",
    "y_val_pred = gs_rfc.predict(X_val)\n",
    "\n",
    "training_f1_score = fbeta_score(y_train, y_train_pred, average='micro', beta=2)\n",
    "validation_f1_score = fbeta_score(y_val,y_val_pred, average='micro', beta=2)\n",
    "\n",
    "print(f'training f1 score:{training_f1_score}')\n",
    "print(f'validation f1 score:{validation_f1_score}')"
   ]
  },
  {
   "cell_type": "code",
   "execution_count": 308,
   "metadata": {},
   "outputs": [
    {
     "data": {
      "image/png": "[encoded data removed]",
      "text/plain": [
       "<Figure size 432x288 with 2 Axes>"
      ]
     },
     "metadata": {
      "needs_background": "light"
     },
     "output_type": "display_data"
    }
   ],
   "source": [
    "plot_confusion_matrix(gs_rfc,X_val,y_val);"
   ]
  },
  {
   "cell_type": "markdown",
   "metadata": {},
   "source": [
    "# Final Model"
   ]
  },
  {
   "cell_type": "markdown",
   "metadata": {},
   "source": [
    "### Logistic regression with penalty ='l2' and solver = 'newton-cg'"
   ]
  },
  {
   "cell_type": "markdown",
   "metadata": {},
   "source": []
  },
  {
   "cell_type": "code",
   "execution_count": 227,
   "metadata": {},
   "outputs": [],
   "source": [
    "log_pipeline_t = imbpipeline(steps=[\n",
    "           ('vect', TfidfVectorizer(max_df=1, min_df=1, stop_words='english', tokenizer=lemmatize_and_tokenize, \n",
    "                                    strip_accents='ascii',ngram_range =(1,2))),\n",
    "           ('smote', SMOTE(sampling_strategy='minority',random_state=42)),\n",
    "           ('logreg', LogisticRegression(penalty ='l2',solver = 'newton-cg'))])"
   ]
  },
  {
   "cell_type": "code",
   "execution_count": 228,
   "metadata": {},
   "outputs": [
    {
     "data": {
      "text/plain": [
       "Pipeline(steps=[('vect',\n",
       "                 TfidfVectorizer(max_df=1, ngram_range=(1, 2),\n",
       "                                 stop_words='english', strip_accents='ascii',\n",
       "                                 tokenizer=<function lemmatize_and_tokenize at 0x7fd5135ed160>)),\n",
       "                ('smote', SMOTE(random_state=42, sampling_strategy='minority')),\n",
       "                ('logreg', LogisticRegression(solver='newton-cg'))])"
      ]
     },
     "execution_count": 228,
     "metadata": {},
     "output_type": "execute_result"
    }
   ],
   "source": [
    "log_pipeline_t.fit(X_train,y_train)"
   ]
  },
  {
   "cell_type": "code",
   "execution_count": 229,
   "metadata": {},
   "outputs": [],
   "source": [
    "y_test_preds = log_pipeline_t.predict(X_test)"
   ]
  },
  {
   "cell_type": "code",
   "execution_count": 319,
   "metadata": {},
   "outputs": [
    {
     "name": "stdout",
     "output_type": "stream",
     "text": [
      "Test_f1_score:0.8430715777999819\n"
     ]
    }
   ],
   "source": [
    "test_f1_score = fbeta_score(y_test,y_test_preds, average='micro', beta=2)\n",
    "print(f'Test_f1_score:{test_f1_score}')"
   ]
  },
  {
   "cell_type": "code",
   "execution_count": 310,
   "metadata": {},
   "outputs": [],
   "source": [
    "# test_recall = recall_score(y_test, y_test_preds, average='weighted')\n",
    "# test_precision = precision_score(y_test, y_test_preds, average='weighted')\n",
    "# test_f1 = f1_score(y_test, y_test_preds, average='weighted')"
   ]
  },
  {
   "cell_type": "code",
   "execution_count": 311,
   "metadata": {},
   "outputs": [
    {
     "data": {
      "image/png": "[encoded data removed]",
      "text/plain": [
       "<Figure size 432x288 with 2 Axes>"
      ]
     },
     "metadata": {
      "needs_background": "light"
     },
     "output_type": "display_data"
    }
   ],
   "source": [
    "plot_confusion_matrix(log_pipeline_t, X_test,y_test);"
   ]
  },
  {
   "cell_type": "code",
   "execution_count": 312,
   "metadata": {},
   "outputs": [
    {
     "data": {
      "text/plain": [
       "<sklearn.metrics._plot.roc_curve.RocCurveDisplay at 0x7fd5c54d7fd0>"
      ]
     },
     "execution_count": 312,
     "metadata": {},
     "output_type": "execute_result"
    },
    {
     "data": {
      "image/png": "[encoded data removed]",
      "text/plain": [
       "<Figure size 432x288 with 1 Axes>"
      ]
     },
     "metadata": {
      "needs_background": "light"
     },
     "output_type": "display_data"
    }
   ],
   "source": [
    "plot_roc_curve(log_pipeline_t,X_test,y_test)"
   ]
  },
  {
   "cell_type": "code",
   "execution_count": 313,
   "metadata": {},
   "outputs": [
    {
     "data": {
      "text/html": [
       "<div>\n",
       "<style scoped>\n",
       "    .dataframe tbody tr th:only-of-type {\n",
       "        vertical-align: middle;\n",
       "    }\n",
       "\n",
       "    .dataframe tbody tr th {\n",
       "        vertical-align: top;\n",
       "    }\n",
       "\n",
       "    .dataframe thead th {\n",
       "        text-align: right;\n",
       "    }\n",
       "</style>\n",
       "<table border=\"1\" class=\"dataframe\">\n",
       "  <thead>\n",
       "    <tr style=\"text-align: right;\">\n",
       "      <th></th>\n",
       "      <th>0</th>\n",
       "    </tr>\n",
       "  </thead>\n",
       "  <tbody>\n",
       "    <tr>\n",
       "      <th>zzzxpsleep</th>\n",
       "      <td>-0.385524</td>\n",
       "    </tr>\n",
       "    <tr>\n",
       "      <th>glee sleep</th>\n",
       "      <td>-0.385524</td>\n",
       "    </tr>\n",
       "    <tr>\n",
       "      <th>stupidity procrastination</th>\n",
       "      <td>-0.385524</td>\n",
       "    </tr>\n",
       "    <tr>\n",
       "      <th>stupidity dont</th>\n",
       "      <td>-0.385524</td>\n",
       "    </tr>\n",
       "    <tr>\n",
       "      <th>stupid week</th>\n",
       "      <td>-0.385524</td>\n",
       "    </tr>\n",
       "    <tr>\n",
       "      <th>...</th>\n",
       "      <td>...</td>\n",
       "    </tr>\n",
       "    <tr>\n",
       "      <th>story look</th>\n",
       "      <td>-0.385524</td>\n",
       "    </tr>\n",
       "    <tr>\n",
       "      <th>going gain</th>\n",
       "      <td>-0.385524</td>\n",
       "    </tr>\n",
       "    <tr>\n",
       "      <th>going gaga</th>\n",
       "      <td>-0.385524</td>\n",
       "    </tr>\n",
       "    <tr>\n",
       "      <th>going fuuun</th>\n",
       "      <td>-0.385524</td>\n",
       "    </tr>\n",
       "    <tr>\n",
       "      <th>stressed bah</th>\n",
       "      <td>-0.385524</td>\n",
       "    </tr>\n",
       "  </tbody>\n",
       "</table>\n",
       "<p>450 rows × 1 columns</p>\n",
       "</div>"
      ],
      "text/plain": [
       "                                  0\n",
       "zzzxpsleep                -0.385524\n",
       "glee sleep                -0.385524\n",
       "stupidity procrastination -0.385524\n",
       "stupidity dont            -0.385524\n",
       "stupid week               -0.385524\n",
       "...                             ...\n",
       "story look                -0.385524\n",
       "going gain                -0.385524\n",
       "going gaga                -0.385524\n",
       "going fuuun               -0.385524\n",
       "stressed bah              -0.385524\n",
       "\n",
       "[450 rows x 1 columns]"
      ]
     },
     "execution_count": 313,
     "metadata": {},
     "output_type": "execute_result"
    }
   ],
   "source": [
    "#Finding feature importance\n",
    "log_model_cv_coefs = pd.Series(index=log_pipeline_t.named_steps['vect'].get_feature_names(), \n",
    "                               data=log_pipeline_t['logreg'].coef_[0]).sort_values(ascending=True)\n",
    "\n",
    "log_model_cv_coefs = pd.DataFrame(log_model_cv_coefs)\n",
    "\n",
    "log_model_odds_ratio=log_model_cv_coefs\n",
    "log_model_odds_ratio.head(450)"
   ]
  },
  {
   "cell_type": "markdown",
   "metadata": {},
   "source": [
    "# Conclusion"
   ]
  },
  {
   "cell_type": "markdown",
   "metadata": {},
   "source": [
    "The goal of this project was to come up with a method to identify individuals who show indications of Neuroticism in order to send them promotional ads to ulitmatley try to reduce the recent spike of depression and or anxiety. This was done by creating multiple classification models and identified the best one as a logistic regression model with an f1 of 84%. This model will allow our stakeholder to identify the neurotic users and target their ads accordingly."
   ]
  },
  {
   "cell_type": "markdown",
   "metadata": {},
   "source": [
    "# Future Research"
   ]
  },
  {
   "cell_type": "markdown",
   "metadata": {},
   "source": [
    "Majority of the status updates were non-neurotic, more neurotic status updates should gathered in order to eliminate class imbalance without artificial methods. As well as gather data from various other media platforms to be able to reach a wider audience."
   ]
  }
 ],
 "metadata": {
  "kernelspec": {
   "display_name": "python3 (learnenv)",
   "language": "python",
   "name": "learn-env"
  },
  "language_info": {
   "codemirror_mode": {
    "name": "ipython",
    "version": 3
   },
   "file_extension": ".py",
   "mimetype": "text/x-python",
   "name": "python",
   "nbconvert_exporter": "python",
   "pygments_lexer": "ipython3",
   "version": "3.8.5"
  }
 },
 "nbformat": 4,
 "nbformat_minor": 4
}
